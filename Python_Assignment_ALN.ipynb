{
 "cells": [
  {
   "cell_type": "markdown",
   "metadata": {},
   "source": [
    "# Python Assignment - ALN"
   ]
  },
  {
   "cell_type": "code",
   "execution_count": 1,
   "metadata": {
    "collapsed": true
   },
   "outputs": [],
   "source": [
    "from Bio import SeqIO\n",
    "from Bio.Data import CodonTable\n",
    "import pandas as pd\n",
    "import numpy as np"
   ]
  },
  {
   "cell_type": "markdown",
   "metadata": {},
   "source": [
    "### Question 1:\n",
    "\n",
    "#### Here is the script from Dr. X, where they first define the function get_sequence_from_file to get sequences from a fasta file without extraneous info. Next, they created a for-loop to parse out the required information. Within that for-loop, they split the string for description up, in that for each record, the data is added to a string array, as there will be multiple descriptions used. Then they defined the species name as the first word description + a space + the second word description. Finally, they created a dictionary for the species names that matches to the recorded sequence. Then the function should return with a dictionary of the species name plus every FASTA record. "
   ]
  },
  {
   "cell_type": "code",
   "execution_count": 2,
   "metadata": {
    "collapsed": true
   },
   "outputs": [],
   "source": [
    "def get_sequences_from_file(fasta_fn):                                 # All lines in this section were provided by Dr. X.\n",
    "    sequence_data_dict = {}\n",
    "    for record in SeqIO.parse(fasta_fn, \"fasta\"):\n",
    "        description = record.description.split()\n",
    "        species_name = description[1] + \" \" + description[2]\n",
    "        sequence_data_dict[species_name] = record.seq\n",
    "    return(sequence_data_dict)"
   ]
  },
  {
   "cell_type": "markdown",
   "metadata": {},
   "source": [
    "#### So for the return types, by defining the sequence data dict, we explicitly request three pieces of information. We parse the sequence and then add 2 descriptions..  So because the sequence_data_dict would initially only have the sequence info because of parse, I have to add the species name to the dictionary to match it with the record. Otherwise, I would only get the sequences and no matching records.\n",
    "\n",
    "#### Outputs could vary depending on how the fasta file is arranged. If species name is not the first and second description, then that would need to be altered. So arrangement of fasta file is important for output."
   ]
  },
  {
   "cell_type": "markdown",
   "metadata": {},
   "source": [
    "#### Using the function defined above, I translate the fasta sequence into a readable file and read the data file for the penguin info. Then I review both the penguins file, the cytb_seqs file and species list. The code for the cytb_seqs, penguins_df, and species_list were provided by Dr. X. "
   ]
  },
  {
   "cell_type": "code",
   "execution_count": 3,
   "metadata": {
    "collapsed": true
   },
   "outputs": [],
   "source": [
    "cytb_seqs = get_sequences_from_file(\"penguins_cytb.fasta\")         # These first two lines and the last line were provided\n",
    "pd.read_csv(\"penguins_mass.csv\")                                   # by Dr. X.\n",
    "penguins_df = pd.read_csv(\"penguins_mass.csv\")\n",
    "species_list = list(penguins_df.species)"
   ]
  },
  {
   "cell_type": "code",
   "execution_count": 4,
   "metadata": {
    "scrolled": true
   },
   "outputs": [
    {
     "data": {
      "text/html": [
       "<div>\n",
       "<style>\n",
       "    .dataframe thead tr:only-child th {\n",
       "        text-align: right;\n",
       "    }\n",
       "\n",
       "    .dataframe thead th {\n",
       "        text-align: left;\n",
       "    }\n",
       "\n",
       "    .dataframe tbody tr th {\n",
       "        vertical-align: top;\n",
       "    }\n",
       "</style>\n",
       "<table border=\"1\" class=\"dataframe\">\n",
       "  <thead>\n",
       "    <tr style=\"text-align: right;\">\n",
       "      <th></th>\n",
       "      <th>species</th>\n",
       "      <th>mass</th>\n",
       "    </tr>\n",
       "  </thead>\n",
       "  <tbody>\n",
       "    <tr>\n",
       "      <th>0</th>\n",
       "      <td>Aptenodytes forsteri</td>\n",
       "      <td>28.00</td>\n",
       "    </tr>\n",
       "    <tr>\n",
       "      <th>1</th>\n",
       "      <td>Aptenodytes patagonicus</td>\n",
       "      <td>13.40</td>\n",
       "    </tr>\n",
       "    <tr>\n",
       "      <th>2</th>\n",
       "      <td>Eudyptes chrysocome</td>\n",
       "      <td>2.80</td>\n",
       "    </tr>\n",
       "    <tr>\n",
       "      <th>3</th>\n",
       "      <td>Eudyptes chrysolophus</td>\n",
       "      <td>4.50</td>\n",
       "    </tr>\n",
       "    <tr>\n",
       "      <th>4</th>\n",
       "      <td>Eudyptes sclateri</td>\n",
       "      <td>4.25</td>\n",
       "    </tr>\n",
       "    <tr>\n",
       "      <th>5</th>\n",
       "      <td>Eudyptula minor</td>\n",
       "      <td>1.60</td>\n",
       "    </tr>\n",
       "    <tr>\n",
       "      <th>6</th>\n",
       "      <td>Pygoscelis adeliae</td>\n",
       "      <td>4.60</td>\n",
       "    </tr>\n",
       "    <tr>\n",
       "      <th>7</th>\n",
       "      <td>Pygoscelis antarctica</td>\n",
       "      <td>4.10</td>\n",
       "    </tr>\n",
       "    <tr>\n",
       "      <th>8</th>\n",
       "      <td>Pygoscelis papua</td>\n",
       "      <td>6.10</td>\n",
       "    </tr>\n",
       "    <tr>\n",
       "      <th>9</th>\n",
       "      <td>Spheniscus demersus</td>\n",
       "      <td>3.20</td>\n",
       "    </tr>\n",
       "    <tr>\n",
       "      <th>10</th>\n",
       "      <td>Spheniscus humboldti</td>\n",
       "      <td>4.75</td>\n",
       "    </tr>\n",
       "    <tr>\n",
       "      <th>11</th>\n",
       "      <td>Spheniscus magellanicus</td>\n",
       "      <td>3.40</td>\n",
       "    </tr>\n",
       "  </tbody>\n",
       "</table>\n",
       "</div>"
      ],
      "text/plain": [
       "                    species   mass\n",
       "0      Aptenodytes forsteri  28.00\n",
       "1   Aptenodytes patagonicus  13.40\n",
       "2       Eudyptes chrysocome   2.80\n",
       "3     Eudyptes chrysolophus   4.50\n",
       "4         Eudyptes sclateri   4.25\n",
       "5           Eudyptula minor   1.60\n",
       "6        Pygoscelis adeliae   4.60\n",
       "7     Pygoscelis antarctica   4.10\n",
       "8          Pygoscelis papua   6.10\n",
       "9       Spheniscus demersus   3.20\n",
       "10     Spheniscus humboldti   4.75\n",
       "11  Spheniscus magellanicus   3.40"
      ]
     },
     "execution_count": 4,
     "metadata": {},
     "output_type": "execute_result"
    }
   ],
   "source": [
    "penguins_df"
   ]
  },
  {
   "cell_type": "code",
   "execution_count": 5,
   "metadata": {
    "scrolled": true
   },
   "outputs": [
    {
     "data": {
      "text/plain": [
       "{'Aptenodytes forsteri': Seq('ATGGCCCCAAATCTCCGAAAATCCCATCCCCTCCTAAAAATAATTAATAACTCC...TAA', SingleLetterAlphabet()),\n",
       " 'Aptenodytes patagonicus': Seq('ATGGCCCCAAACCTCCGAAAATCCCATCCTCTCCTAAAAATAATTAATAACTCC...TAA', SingleLetterAlphabet()),\n",
       " 'Eudyptes chrysocome': Seq('ATGGCCCCCAACCTCCGAAAATCCCACCCCCTCCTAAAAACAATCAATAACTCC...TAA', SingleLetterAlphabet()),\n",
       " 'Eudyptes chrysolophus': Seq('ATGGCCCCCAACCTCCGAAAATCCCACCCCCTCCTAAAAACAATCAATAACTCC...TAA', SingleLetterAlphabet()),\n",
       " 'Eudyptes sclateri': Seq('ATGGCCCCCAACCTCCGAAAATCCCACCCCCTCCTAAAAACAATCAATAACTCC...TAA', SingleLetterAlphabet()),\n",
       " 'Eudyptula minor': Seq('ATGGCCCCCAACCTCCGAAAATCTCACCCCCTCCTAAAAATAATCAACAACTCT...TAA', SingleLetterAlphabet()),\n",
       " 'Pygoscelis adeliae': Seq('ATGGCCCCCAACCTCCGAAAATCCCACCCTCTCCTAAAAATAATTAACAACTCC...TAA', SingleLetterAlphabet()),\n",
       " 'Pygoscelis antarctica': Seq('ATGGCCCCCAACCTCCGAAAATCCCACCCTCTCCTAAAAATAATCAACAACTCC...TAG', SingleLetterAlphabet()),\n",
       " 'Pygoscelis papua': Seq('ATGGCCCCCAACCTTCGAAAATCCCACCCTCTCCTAAAAATAATCAACAAATCC...TAG', SingleLetterAlphabet()),\n",
       " 'Spheniscus demersus': Seq('ATGGCCCCCAACCTCCGAAAATCCCACCCTCTCCTAAAAACAATCAACAACTCC...TAA', SingleLetterAlphabet()),\n",
       " 'Spheniscus humboldti': Seq('ATGGCCCCCAACCTCCGAAAATCCCACCCTCTCCTAAAAACAATCAACAACTCC...TAA', SingleLetterAlphabet()),\n",
       " 'Spheniscus magellanicus': Seq('ATGGCCCCCAACCTCCGAAAATCCCACCCTCTCCTAAAAACAATCAACAACTCC...TAA', SingleLetterAlphabet())}"
      ]
     },
     "execution_count": 5,
     "metadata": {},
     "output_type": "execute_result"
    }
   ],
   "source": [
    "cytb_seqs"
   ]
  },
  {
   "cell_type": "code",
   "execution_count": 6,
   "metadata": {},
   "outputs": [
    {
     "data": {
      "text/plain": [
       "['Aptenodytes forsteri',\n",
       " 'Aptenodytes patagonicus',\n",
       " 'Eudyptes chrysocome',\n",
       " 'Eudyptes chrysolophus',\n",
       " 'Eudyptes sclateri',\n",
       " 'Eudyptula minor',\n",
       " 'Pygoscelis adeliae',\n",
       " 'Pygoscelis antarctica',\n",
       " 'Pygoscelis papua',\n",
       " 'Spheniscus demersus',\n",
       " 'Spheniscus humboldti',\n",
       " 'Spheniscus magellanicus']"
      ]
     },
     "execution_count": 6,
     "metadata": {},
     "output_type": "execute_result"
    }
   ],
   "source": [
    "species_list"
   ]
  },
  {
   "cell_type": "markdown",
   "metadata": {},
   "source": [
    "### Question 2:\n",
    "#### Next I work on the String translate function. First, I used the code provided from Dr. X to define the codon table and print to view the table matrix."
   ]
  },
  {
   "cell_type": "code",
   "execution_count": 7,
   "metadata": {
    "collapsed": true
   },
   "outputs": [],
   "source": [
    "mito_table = CodonTable.unambiguous_dna_by_name[\"Vertebrate Mitochondrial\"]          # Code provided by Dr. X."
   ]
  },
  {
   "cell_type": "code",
   "execution_count": 8,
   "metadata": {
    "scrolled": false
   },
   "outputs": [
    {
     "name": "stdout",
     "output_type": "stream",
     "text": [
      "Table 2 Vertebrate Mitochondrial, SGC1\n",
      "\n",
      "  |  T      |  C      |  A      |  G      |\n",
      "--+---------+---------+---------+---------+--\n",
      "T | TTT F   | TCT S   | TAT Y   | TGT C   | T\n",
      "T | TTC F   | TCC S   | TAC Y   | TGC C   | C\n",
      "T | TTA L   | TCA S   | TAA Stop| TGA W   | A\n",
      "T | TTG L   | TCG S   | TAG Stop| TGG W   | G\n",
      "--+---------+---------+---------+---------+--\n",
      "C | CTT L   | CCT P   | CAT H   | CGT R   | T\n",
      "C | CTC L   | CCC P   | CAC H   | CGC R   | C\n",
      "C | CTA L   | CCA P   | CAA Q   | CGA R   | A\n",
      "C | CTG L   | CCG P   | CAG Q   | CGG R   | G\n",
      "--+---------+---------+---------+---------+--\n",
      "A | ATT I(s)| ACT T   | AAT N   | AGT S   | T\n",
      "A | ATC I(s)| ACC T   | AAC N   | AGC S   | C\n",
      "A | ATA M(s)| ACA T   | AAA K   | AGA Stop| A\n",
      "A | ATG M(s)| ACG T   | AAG K   | AGG Stop| G\n",
      "--+---------+---------+---------+---------+--\n",
      "G | GTT V   | GCT A   | GAT D   | GGT G   | T\n",
      "G | GTC V   | GCC A   | GAC D   | GGC G   | C\n",
      "G | GTA V   | GCA A   | GAA E   | GGA G   | A\n",
      "G | GTG V(s)| GCG A   | GAG E   | GGG G   | G\n",
      "--+---------+---------+---------+---------+--\n"
     ]
    }
   ],
   "source": [
    "print(mito_table)"
   ]
  },
  {
   "cell_type": "markdown",
   "metadata": {},
   "source": [
    "#### Then, using the pseudocode provided, I complete a translate function to convert the sequence of DNA to amino acids. First I used the initial def line provided by Dr. X to define the function that we're completing as well as his mito_table to indicate what table I will use for the corresponding to. I create my code for a for-loop with a range for the length of the sequence, for every three nucleotides, to compare a triplet of sequences to the codon table. Then it returns the amino acid. \n",
    "\n",
    "Source for code completion: https://stackoverflow.com/questions/36305314/how-to-translate-a-fasta-sequence-from-dict-how-to-make-function-output-a-strin, http://www.onlamp.com/pub/a/python/2002/10/17/biopython.html?page=3 and http://www.petercollingridge.co.uk/python-bioinformatics-tools/codon-table"
   ]
  },
  {
   "cell_type": "code",
   "execution_count": 9,
   "metadata": {
    "collapsed": true
   },
   "outputs": [],
   "source": [
    "def translate_function(string_nucleotides):                                     # These first two lines were provided by Dr. X.\n",
    "    mito_table = CodonTable.unambiguous_dna_by_name[\"Vertebrate Mitochondrial\"]  \n",
    "    aa_string = \"\"                                                              # This is the start of my code.\n",
    "    for x in range (0,len(string_nucleotides)-3, 3):\n",
    "        codon = string_nucleotides[x:x+3]\n",
    "        aa_string = aa_string + mito_table.forward_table[codon]\n",
    "    return(aa_string)"
   ]
  },
  {
   "cell_type": "markdown",
   "metadata": {},
   "source": [
    "#### Now to test the function, I print the species list and randomly pick a species. I print out the DNA sequence and run it through the translation function and compare the AA to the codon table printed above to make sure it matches."
   ]
  },
  {
   "cell_type": "code",
   "execution_count": 10,
   "metadata": {},
   "outputs": [
    {
     "data": {
      "text/plain": [
       "['Aptenodytes forsteri',\n",
       " 'Aptenodytes patagonicus',\n",
       " 'Eudyptes chrysocome',\n",
       " 'Eudyptes chrysolophus',\n",
       " 'Eudyptes sclateri',\n",
       " 'Eudyptula minor',\n",
       " 'Pygoscelis adeliae',\n",
       " 'Pygoscelis antarctica',\n",
       " 'Pygoscelis papua',\n",
       " 'Spheniscus demersus',\n",
       " 'Spheniscus humboldti',\n",
       " 'Spheniscus magellanicus']"
      ]
     },
     "execution_count": 10,
     "metadata": {},
     "output_type": "execute_result"
    }
   ],
   "source": [
    "species_list"
   ]
  },
  {
   "cell_type": "code",
   "execution_count": 11,
   "metadata": {
    "scrolled": true
   },
   "outputs": [
    {
     "name": "stdout",
     "output_type": "stream",
     "text": [
      "ATGGCCCCAAACCTCCGAAAATCCCATCCTCTCCTAAAAATAATTAATAACTCCCTAATCGACCTGCCCACCCCATCAAACATCTCTGCCTGATGAAACTTCGGATCTCTCCTAGGCATCTGCCTAACTACACAAATCTTAACCGGCCTCCTACTAGCTATACACTACACTGCAGACACAACCCTGGCCTTCTCCTCAGTCGCCCACACATGCCGAAATGTACAGTACGGCTGACTAATCCGCAACCTACATGCAAACGGAGCATCATTCTTTTTCATCTGCATCTACCTCCACATCGGCCGTGGATTTTACTACGGCTCCTACCTATACAAAGAAACCTGAAACACGGGCATCATTCTCCTACTCACACTCATAGCAACCGCCTTCGTAGGCTACGTCCTGCCATGGGGACAAATATCATTCTGAGGGGCCACAGTCATTACCAACTTATTCTCAGCCATCCCCTACATCGGCCAAACCCTCGTAGAATGAGCCTGAGGTGGCTTTTCAGTAGACAACCCCACATTAACCCGATTTTTCGCACTACACTTCCTCCTCCCCTTCATAATCGCAGGCCTCACCCTCATCCATCTCACCTTCCTCCACGAATCAGGCTCAAACAACCCACTGGGCATCGTAGCTAACTCCGATAAGATCCCATTCCATCCCTACTACTCCACAAAAGACACCCTAGGATTCGCACTCATACTTCTCCCACTAACAACCCTCGCCCTATTCTCCCCCAACTTACTGGGGGACCCAGAAAACTTTACCCCAGCAAACCCACTAGTCACACCCCCACACATCAAACCAGAATGATACTTCCTATTTGCATACGCTATCCTACGCTCAATCCCCAACAAACTGGGGGGAGTCCTAGCCCTAGCAGCCTCAGTACTGATCCTATTCCTAATCCCCCTCCTCCACAAGTCCAAACAGCGTACAATAACCTTCCGTCCCCTCTCCCAGCTCCTATTCTGAACCTTAGTAGCCAACCTCACCATCCTAACATGGATCGGCAGCCAACCAGTAGAACACCCCTTCATCATCATCGGCCAACTAGCTTCCCTCACCTACTTCACCATCCTCCTAATCCTCTTCCCCCTCATCGGGACTCTAGAAAACAAGATACTTAACCACTAA\n"
     ]
    }
   ],
   "source": [
    "print(cytb_seqs['Aptenodytes patagonicus'])"
   ]
  },
  {
   "cell_type": "code",
   "execution_count": 12,
   "metadata": {
    "scrolled": true
   },
   "outputs": [
    {
     "data": {
      "text/plain": [
       "'MAPNLRKSHPLLKMINNSLIDLPTPSNISAWWNFGSLLGICLTTQILTGLLLAMHYTADTTLAFSSVAHTCRNVQYGWLIRNLHANGASFFFICIYLHIGRGFYYGSYLYKETWNTGIILLLTLMATAFVGYVLPWGQMSFWGATVITNLFSAIPYIGQTLVEWAWGGFSVDNPTLTRFFALHFLLPFMIAGLTLIHLTFLHESGSNNPLGIVANSDKIPFHPYYSTKDTLGFALMLLPLTTLALFSPNLLGDPENFTPANPLVTPPHIKPEWYFLFAYAILRSIPNKLGGVLALAASVLILFLIPLLHKSKQRTMTFRPLSQLLFWTLVANLTILTWIGSQPVEHPFIIIGQLASLTYFTILLILFPLIGTLENKMLNH'"
      ]
     },
     "execution_count": 12,
     "metadata": {},
     "output_type": "execute_result"
    }
   ],
   "source": [
    "translate_function('ATGGCCCCAAACCTCCGAAAATCCCATCCTCTCCTAAAAATAATTAATAACTCCCTAATCGACCTGCCCACCCCATCAAACATCTCTGCCTGATGAAACTTCGGATCTCTCCTAGGCATCTGCCTAACTACACAAATCTTAACCGGCCTCCTACTAGCTATACACTACACTGCAGACACAACCCTGGCCTTCTCCTCAGTCGCCCACACATGCCGAAATGTACAGTACGGCTGACTAATCCGCAACCTACATGCAAACGGAGCATCATTCTTTTTCATCTGCATCTACCTCCACATCGGCCGTGGATTTTACTACGGCTCCTACCTATACAAAGAAACCTGAAACACGGGCATCATTCTCCTACTCACACTCATAGCAACCGCCTTCGTAGGCTACGTCCTGCCATGGGGACAAATATCATTCTGAGGGGCCACAGTCATTACCAACTTATTCTCAGCCATCCCCTACATCGGCCAAACCCTCGTAGAATGAGCCTGAGGTGGCTTTTCAGTAGACAACCCCACATTAACCCGATTTTTCGCACTACACTTCCTCCTCCCCTTCATAATCGCAGGCCTCACCCTCATCCATCTCACCTTCCTCCACGAATCAGGCTCAAACAACCCACTGGGCATCGTAGCTAACTCCGATAAGATCCCATTCCATCCCTACTACTCCACAAAAGACACCCTAGGATTCGCACTCATACTTCTCCCACTAACAACCCTCGCCCTATTCTCCCCCAACTTACTGGGGGACCCAGAAAACTTTACCCCAGCAAACCCACTAGTCACACCCCCACACATCAAACCAGAATGATACTTCCTATTTGCATACGCTATCCTACGCTCAATCCCCAACAAACTGGGGGGAGTCCTAGCCCTAGCAGCCTCAGTACTGATCCTATTCCTAATCCCCCTCCTCCACAAGTCCAAACAGCGTACAATAACCTTCCGTCCCCTCTCCCAGCTCCTATTCTGAACCTTAGTAGCCAACCTCACCATCCTAACATGGATCGGCAGCCAACCAGTAGAACACCCCTTCATCATCATCGGCCAACTAGCTTCCCTCACCTACTTCACCATCCTCCTAATCCTCTTCCCCCTCATCGGGACTCTAGAAAACAAGATACTTAACCACTAA')"
   ]
  },
  {
   "cell_type": "markdown",
   "metadata": {},
   "source": [
    "### Question 3:\n",
    "\n",
    "#### Now we create the alternative translate function. To do this I used the .translate() function from Biopython. First I import the Seq and Translate functions. Then I create a for-loop to translate (using the .translate function), where I used the key-value pair to compare the DNA sequence in the dictionary cytb_seq to AA in the codon table.I also used the to_stop to remove the stop codon. Then I used the same DNA sequence that I tested in the first function to test the alternative translation function.\n",
    "\n",
    "Source for this code: http://biopython.org/DIST/docs/api/Bio.Seq.Seq-class.html#translate and http://biopython.org/DIST/docs/api/Bio.Seq.Seq-class.html#translate"
   ]
  },
  {
   "cell_type": "code",
   "execution_count": 13,
   "metadata": {
    "collapsed": true,
    "scrolled": true
   },
   "outputs": [],
   "source": [
    "from Bio.Seq import Seq\n",
    "from Bio.Seq import translate"
   ]
  },
  {
   "cell_type": "code",
   "execution_count": 14,
   "metadata": {
    "collapsed": true
   },
   "outputs": [],
   "source": [
    "def alternative_translate(dict):\n",
    "    for key, value in cytb_seqs.items():\n",
    "        aa_string = value.translate(to_stop=True, table=\"Vertebrate Mitochondrial\")\n",
    "    return(aa_string)"
   ]
  },
  {
   "cell_type": "code",
   "execution_count": 15,
   "metadata": {},
   "outputs": [
    {
     "data": {
      "text/plain": [
       "Seq('MAPNLRKSHPLLKTINNSLIDLPTPSNISAWWNFGSLLGICLATQILTGLLLAA...LNH', ExtendedIUPACProtein())"
      ]
     },
     "execution_count": 15,
     "metadata": {},
     "output_type": "execute_result"
    }
   ],
   "source": [
    "alternative_translate(\"ATGGCCCCAAACCTCCGAAAATCCCATCCTCTCCTAAAAATAATTAATAACTCCCTAATCGACCTGCCCACCCCATCAAACATCTCTGCCTGATGAAACTTCGGATCTCTCCTAGGCATCTGCCTAACTACACAAATCTTAACCGGCCTCCTACTAGCTATACACTACACTGCAGACACAACCCTGGCCTTCTCCTCAGTCGCCCACACATGCCGAAATGTACAGTACGGCTGACTAATCCGCAACCTACATGCAAACGGAGCATCATTCTTTTTCATCTGCATCTACCTCCACATCGGCCGTGGATTTTACTACGGCTCCTACCTATACAAAGAAACCTGAAACACGGGCATCATTCTCCTACTCACACTCATAGCAACCGCCTTCGTAGGCTACGTCCTGCCATGGGGACAAATATCATTCTGAGGGGCCACAGTCATTACCAACTTATTCTCAGCCATCCCCTACATCGGCCAAACCCTCGTAGAATGAGCCTGAGGTGGCTTTTCAGTAGACAACCCCACATTAACCCGATTTTTCGCACTACACTTCCTCCTCCCCTTCATAATCGCAGGCCTCACCCTCATCCATCTCACCTTCCTCCACGAATCAGGCTCAAACAACCCACTGGGCATCGTAGCTAACTCCGATAAGATCCCATTCCATCCCTACTACTCCACAAAAGACACCCTAGGATTCGCACTCATACTTCTCCCACTAACAACCCTCGCCCTATTCTCCCCCAACTTACTGGGGGACCCAGAAAACTTTACCCCAGCAAACCCACTAGTCACACCCCCACACATCAAACCAGAATGATACTTCCTATTTGCATACGCTATCCTACGCTCAATCCCCAACAAACTGGGGGGAGTCCTAGCCCTAGCAGCCTCAGTACTGATCCTATTCCTAATCCCCCTCCTCCACAAGTCCAAACAGCGTACAATAACCTTCCGTCCCCTCTCCCAGCTCCTATTCTGAACCTTAGTAGCCAACCTCACCATCCTAACATGGATCGGCAGCCAACCAGTAGAACACCCCTTCATCATCATCGGCCAACTAGCTTCCCTCACCTACTTCACCATCCTCCTAATCCTCTTCCCCCTCATCGGGACTCTAGAAAACAAGATACTTAACCACTAA\")"
   ]
  },
  {
   "cell_type": "markdown",
   "metadata": {},
   "source": [
    "### Question 4:\n",
    "\n",
    "#### Now I conduct an amino acid analysis. Again using Biopython, I imported the ProtParam module to calculate the molecular weight. I altered the code found on the source below to get the function, as well as using Dr. X's initial pseudocode:\n",
    "\n",
    "Source: http://biopython.org/wiki/ProtParam"
   ]
  },
  {
   "cell_type": "code",
   "execution_count": 16,
   "metadata": {
    "collapsed": true
   },
   "outputs": [],
   "source": [
    "from Bio.SeqUtils.ProtParam import ProteinAnalysis                          # These first two lines were provided by Dr. X.\n",
    "def compute_molecular_weight(aa_seq):\n",
    "    analysed_seq = ProteinAnalysis(aa_seq)                                  # This is the start of my code. \n",
    "    return (analysed_seq.molecular_weight())"
   ]
  },
  {
   "cell_type": "code",
   "execution_count": 17,
   "metadata": {},
   "outputs": [
    {
     "data": {
      "text/plain": [
       "100610.413400002"
      ]
     },
     "execution_count": 17,
     "metadata": {},
     "output_type": "execute_result"
    }
   ],
   "source": [
    "compute_molecular_weight(\"ATGGCCCCAAACCTCCGAAAATCCCATCCTCTCCTAAAAATAATTAATAACTCCCTAATCGACCTGCCCACCCCATCAAACATCTCTGCCTGATGAAACTTCGGATCTCTCCTAGGCATCTGCCTAACTACACAAATCTTAACCGGCCTCCTACTAGCTATACACTACACTGCAGACACAACCCTGGCCTTCTCCTCAGTCGCCCACACATGCCGAAATGTACAGTACGGCTGACTAATCCGCAACCTACATGCAAACGGAGCATCATTCTTTTTCATCTGCATCTACCTCCACATCGGCCGTGGATTTTACTACGGCTCCTACCTATACAAAGAAACCTGAAACACGGGCATCATTCTCCTACTCACACTCATAGCAACCGCCTTCGTAGGCTACGTCCTGCCATGGGGACAAATATCATTCTGAGGGGCCACAGTCATTACCAACTTATTCTCAGCCATCCCCTACATCGGCCAAACCCTCGTAGAATGAGCCTGAGGTGGCTTTTCAGTAGACAACCCCACATTAACCCGATTTTTCGCACTACACTTCCTCCTCCCCTTCATAATCGCAGGCCTCACCCTCATCCATCTCACCTTCCTCCACGAATCAGGCTCAAACAACCCACTGGGCATCGTAGCTAACTCCGATAAGATCCCATTCCATCCCTACTACTCCACAAAAGACACCCTAGGATTCGCACTCATACTTCTCCCACTAACAACCCTCGCCCTATTCTCCCCCAACTTACTGGGGGACCCAGAAAACTTTACCCCAGCAAACCCACTAGTCACACCCCCACACATCAAACCAGAATGATACTTCCTATTTGCATACGCTATCCTACGCTCAATCCCCAACAAACTGGGGGGAGTCCTAGCCCTAGCAGCCTCAGTACTGATCCTATTCCTAATCCCCCTCCTCCACAAGTCCAAACAGCGTACAATAACCTTCCGTCCCCTCTCCCAGCTCCTATTCTGAACCTTAGTAGCCAACCTCACCATCCTAACATGGATCGGCAGCCAACCAGTAGAACACCCCTTCATCATCATCGGCCAACTAGCTTCCCTCACCTACTTCACCATCCTCCTAATCCTCTTCCCCCTCATCGGGACTCTAGAAAACAAGATACTTAACCACTAA\")"
   ]
  },
  {
   "cell_type": "markdown",
   "metadata": {},
   "source": [
    "### Question 5:\n",
    "\n",
    "#### Next, I conduct a GC content analysis. This time, I explicitly imported the GC module as that was already defined on Biopython. This information was provided by Dr. Iddo Friedberg during the class BCB546X at Iowa State University. I did review the BioUtils source for more information on context.\n",
    "\n",
    "Source: http://biopython.org/DIST/docs/api/Bio.SeqUtils-module.html#GC"
   ]
  },
  {
   "cell_type": "code",
   "execution_count": 18,
   "metadata": {},
   "outputs": [
    {
     "data": {
      "text/plain": [
       "49.69378827646544"
      ]
     },
     "execution_count": 18,
     "metadata": {},
     "output_type": "execute_result"
    }
   ],
   "source": [
    "from Bio.SeqUtils import GC\n",
    "GC(\"ATGGCCCCAAACCTCCGAAAATCCCATCCTCTCCTAAAAATAATTAATAACTCCCTAATCGACCTGCCCACCCCATCAAACATCTCTGCCTGATGAAACTTCGGATCTCTCCTAGGCATCTGCCTAACTACACAAATCTTAACCGGCCTCCTACTAGCTATACACTACACTGCAGACACAACCCTGGCCTTCTCCTCAGTCGCCCACACATGCCGAAATGTACAGTACGGCTGACTAATCCGCAACCTACATGCAAACGGAGCATCATTCTTTTTCATCTGCATCTACCTCCACATCGGCCGTGGATTTTACTACGGCTCCTACCTATACAAAGAAACCTGAAACACGGGCATCATTCTCCTACTCACACTCATAGCAACCGCCTTCGTAGGCTACGTCCTGCCATGGGGACAAATATCATTCTGAGGGGCCACAGTCATTACCAACTTATTCTCAGCCATCCCCTACATCGGCCAAACCCTCGTAGAATGAGCCTGAGGTGGCTTTTCAGTAGACAACCCCACATTAACCCGATTTTTCGCACTACACTTCCTCCTCCCCTTCATAATCGCAGGCCTCACCCTCATCCATCTCACCTTCCTCCACGAATCAGGCTCAAACAACCCACTGGGCATCGTAGCTAACTCCGATAAGATCCCATTCCATCCCTACTACTCCACAAAAGACACCCTAGGATTCGCACTCATACTTCTCCCACTAACAACCCTCGCCCTATTCTCCCCCAACTTACTGGGGGACCCAGAAAACTTTACCCCAGCAAACCCACTAGTCACACCCCCACACATCAAACCAGAATGATACTTCCTATTTGCATACGCTATCCTACGCTCAATCCCCAACAAACTGGGGGGAGTCCTAGCCCTAGCAGCCTCAGTACTGATCCTATTCCTAATCCCCCTCCTCCACAAGTCCAAACAGCGTACAATAACCTTCCGTCCCCTCTCCCAGCTCCTATTCTGAACCTTAGTAGCCAACCTCACCATCCTAACATGGATCGGCAGCCAACCAGTAGAACACCCCTTCATCATCATCGGCCAACTAGCTTCCCTCACCTACTTCACCATCCTCCTAATCCTCTTCCCCCTCATCGGGACTCTAGAAAACAAGATACTTAACCACTAA\")"
   ]
  },
  {
   "cell_type": "markdown",
   "metadata": {},
   "source": [
    "### Question 6:\n",
    "\n",
    "#### We add two new columns to the penguin data frame for molecular weight and GC Content. I used the comments from the the source listed below to get the code for adding columns. Then used the .assign() function to assign NaN to the empty cells as that data is not yet calculated.\n",
    "\n",
    "Source: https://stackoverflow.com/questions/12555323/adding-new-column-to-existing-dataframe-in-python-pandas"
   ]
  },
  {
   "cell_type": "code",
   "execution_count": 19,
   "metadata": {
    "scrolled": false
   },
   "outputs": [
    {
     "data": {
      "text/html": [
       "<div>\n",
       "<style>\n",
       "    .dataframe thead tr:only-child th {\n",
       "        text-align: right;\n",
       "    }\n",
       "\n",
       "    .dataframe thead th {\n",
       "        text-align: left;\n",
       "    }\n",
       "\n",
       "    .dataframe tbody tr th {\n",
       "        vertical-align: top;\n",
       "    }\n",
       "</style>\n",
       "<table border=\"1\" class=\"dataframe\">\n",
       "  <thead>\n",
       "    <tr style=\"text-align: right;\">\n",
       "      <th></th>\n",
       "      <th>species</th>\n",
       "      <th>mass</th>\n",
       "    </tr>\n",
       "  </thead>\n",
       "  <tbody>\n",
       "    <tr>\n",
       "      <th>0</th>\n",
       "      <td>Aptenodytes forsteri</td>\n",
       "      <td>28.00</td>\n",
       "    </tr>\n",
       "    <tr>\n",
       "      <th>1</th>\n",
       "      <td>Aptenodytes patagonicus</td>\n",
       "      <td>13.40</td>\n",
       "    </tr>\n",
       "    <tr>\n",
       "      <th>2</th>\n",
       "      <td>Eudyptes chrysocome</td>\n",
       "      <td>2.80</td>\n",
       "    </tr>\n",
       "    <tr>\n",
       "      <th>3</th>\n",
       "      <td>Eudyptes chrysolophus</td>\n",
       "      <td>4.50</td>\n",
       "    </tr>\n",
       "    <tr>\n",
       "      <th>4</th>\n",
       "      <td>Eudyptes sclateri</td>\n",
       "      <td>4.25</td>\n",
       "    </tr>\n",
       "    <tr>\n",
       "      <th>5</th>\n",
       "      <td>Eudyptula minor</td>\n",
       "      <td>1.60</td>\n",
       "    </tr>\n",
       "    <tr>\n",
       "      <th>6</th>\n",
       "      <td>Pygoscelis adeliae</td>\n",
       "      <td>4.60</td>\n",
       "    </tr>\n",
       "    <tr>\n",
       "      <th>7</th>\n",
       "      <td>Pygoscelis antarctica</td>\n",
       "      <td>4.10</td>\n",
       "    </tr>\n",
       "    <tr>\n",
       "      <th>8</th>\n",
       "      <td>Pygoscelis papua</td>\n",
       "      <td>6.10</td>\n",
       "    </tr>\n",
       "    <tr>\n",
       "      <th>9</th>\n",
       "      <td>Spheniscus demersus</td>\n",
       "      <td>3.20</td>\n",
       "    </tr>\n",
       "    <tr>\n",
       "      <th>10</th>\n",
       "      <td>Spheniscus humboldti</td>\n",
       "      <td>4.75</td>\n",
       "    </tr>\n",
       "    <tr>\n",
       "      <th>11</th>\n",
       "      <td>Spheniscus magellanicus</td>\n",
       "      <td>3.40</td>\n",
       "    </tr>\n",
       "  </tbody>\n",
       "</table>\n",
       "</div>"
      ],
      "text/plain": [
       "                    species   mass\n",
       "0      Aptenodytes forsteri  28.00\n",
       "1   Aptenodytes patagonicus  13.40\n",
       "2       Eudyptes chrysocome   2.80\n",
       "3     Eudyptes chrysolophus   4.50\n",
       "4         Eudyptes sclateri   4.25\n",
       "5           Eudyptula minor   1.60\n",
       "6        Pygoscelis adeliae   4.60\n",
       "7     Pygoscelis antarctica   4.10\n",
       "8          Pygoscelis papua   6.10\n",
       "9       Spheniscus demersus   3.20\n",
       "10     Spheniscus humboldti   4.75\n",
       "11  Spheniscus magellanicus   3.40"
      ]
     },
     "execution_count": 19,
     "metadata": {},
     "output_type": "execute_result"
    }
   ],
   "source": [
    "penguins_df"
   ]
  },
  {
   "cell_type": "code",
   "execution_count": 20,
   "metadata": {
    "scrolled": true
   },
   "outputs": [
    {
     "data": {
      "text/html": [
       "<div>\n",
       "<style>\n",
       "    .dataframe thead tr:only-child th {\n",
       "        text-align: right;\n",
       "    }\n",
       "\n",
       "    .dataframe thead th {\n",
       "        text-align: left;\n",
       "    }\n",
       "\n",
       "    .dataframe tbody tr th {\n",
       "        vertical-align: top;\n",
       "    }\n",
       "</style>\n",
       "<table border=\"1\" class=\"dataframe\">\n",
       "  <thead>\n",
       "    <tr style=\"text-align: right;\">\n",
       "      <th></th>\n",
       "      <th>species</th>\n",
       "      <th>mass</th>\n",
       "      <th>GC_cont</th>\n",
       "      <th>mol_weight</th>\n",
       "    </tr>\n",
       "  </thead>\n",
       "  <tbody>\n",
       "    <tr>\n",
       "      <th>0</th>\n",
       "      <td>Aptenodytes forsteri</td>\n",
       "      <td>28.00</td>\n",
       "      <td>NaN</td>\n",
       "      <td>NaN</td>\n",
       "    </tr>\n",
       "    <tr>\n",
       "      <th>1</th>\n",
       "      <td>Aptenodytes patagonicus</td>\n",
       "      <td>13.40</td>\n",
       "      <td>NaN</td>\n",
       "      <td>NaN</td>\n",
       "    </tr>\n",
       "    <tr>\n",
       "      <th>2</th>\n",
       "      <td>Eudyptes chrysocome</td>\n",
       "      <td>2.80</td>\n",
       "      <td>NaN</td>\n",
       "      <td>NaN</td>\n",
       "    </tr>\n",
       "    <tr>\n",
       "      <th>3</th>\n",
       "      <td>Eudyptes chrysolophus</td>\n",
       "      <td>4.50</td>\n",
       "      <td>NaN</td>\n",
       "      <td>NaN</td>\n",
       "    </tr>\n",
       "    <tr>\n",
       "      <th>4</th>\n",
       "      <td>Eudyptes sclateri</td>\n",
       "      <td>4.25</td>\n",
       "      <td>NaN</td>\n",
       "      <td>NaN</td>\n",
       "    </tr>\n",
       "    <tr>\n",
       "      <th>5</th>\n",
       "      <td>Eudyptula minor</td>\n",
       "      <td>1.60</td>\n",
       "      <td>NaN</td>\n",
       "      <td>NaN</td>\n",
       "    </tr>\n",
       "    <tr>\n",
       "      <th>6</th>\n",
       "      <td>Pygoscelis adeliae</td>\n",
       "      <td>4.60</td>\n",
       "      <td>NaN</td>\n",
       "      <td>NaN</td>\n",
       "    </tr>\n",
       "    <tr>\n",
       "      <th>7</th>\n",
       "      <td>Pygoscelis antarctica</td>\n",
       "      <td>4.10</td>\n",
       "      <td>NaN</td>\n",
       "      <td>NaN</td>\n",
       "    </tr>\n",
       "    <tr>\n",
       "      <th>8</th>\n",
       "      <td>Pygoscelis papua</td>\n",
       "      <td>6.10</td>\n",
       "      <td>NaN</td>\n",
       "      <td>NaN</td>\n",
       "    </tr>\n",
       "    <tr>\n",
       "      <th>9</th>\n",
       "      <td>Spheniscus demersus</td>\n",
       "      <td>3.20</td>\n",
       "      <td>NaN</td>\n",
       "      <td>NaN</td>\n",
       "    </tr>\n",
       "    <tr>\n",
       "      <th>10</th>\n",
       "      <td>Spheniscus humboldti</td>\n",
       "      <td>4.75</td>\n",
       "      <td>NaN</td>\n",
       "      <td>NaN</td>\n",
       "    </tr>\n",
       "    <tr>\n",
       "      <th>11</th>\n",
       "      <td>Spheniscus magellanicus</td>\n",
       "      <td>3.40</td>\n",
       "      <td>NaN</td>\n",
       "      <td>NaN</td>\n",
       "    </tr>\n",
       "  </tbody>\n",
       "</table>\n",
       "</div>"
      ],
      "text/plain": [
       "                    species   mass GC_cont mol_weight\n",
       "0      Aptenodytes forsteri  28.00     NaN        NaN\n",
       "1   Aptenodytes patagonicus  13.40     NaN        NaN\n",
       "2       Eudyptes chrysocome   2.80     NaN        NaN\n",
       "3     Eudyptes chrysolophus   4.50     NaN        NaN\n",
       "4         Eudyptes sclateri   4.25     NaN        NaN\n",
       "5           Eudyptula minor   1.60     NaN        NaN\n",
       "6        Pygoscelis adeliae   4.60     NaN        NaN\n",
       "7     Pygoscelis antarctica   4.10     NaN        NaN\n",
       "8          Pygoscelis papua   6.10     NaN        NaN\n",
       "9       Spheniscus demersus   3.20     NaN        NaN\n",
       "10     Spheniscus humboldti   4.75     NaN        NaN\n",
       "11  Spheniscus magellanicus   3.40     NaN        NaN"
      ]
     },
     "execution_count": 20,
     "metadata": {},
     "output_type": "execute_result"
    }
   ],
   "source": [
    "penguins_df.assign(mol_weight = \"NaN\", GC_cont = \"NaN\")"
   ]
  },
  {
   "cell_type": "markdown",
   "metadata": {},
   "source": [
    "### Question 7\n",
    "\n",
    "#### Next I write for loop to transate each sequence, calculate the molecular weight, and compute GC for each translated sequence. I first set the row counter at 0 as this is a 0-index program, then created a for-loop for this function. I used the key-value pairing dictionary function mentioned above (and also provided by Dr. X). Also, I used the translate_function I defined in question 2, and the molecular weight and GC functions defined in questions 4 and 5.  I couldn't append data for more then one row, so I used .set_value to insert the values as listed.\n",
    "\n",
    "Source: https://stackoverflow.com/questions/28910089/filling-empty-python-dataframe-using-loops and https://stackoverflow.com/questions/13842088/set-value-for-particular-cell-in-pandas-dataframe"
   ]
  },
  {
   "cell_type": "code",
   "execution_count": 21,
   "metadata": {
    "collapsed": true,
    "scrolled": true
   },
   "outputs": [],
   "source": [
    "row_counter = 0\n",
    "for key, value in cytb_seqs.items():                                          # These two lines of code provided by Dr. X.\n",
    "    aa_string = translate_function(str(value))                                # Used base from Dr. X., altered function\n",
    "    mol_weight_table = compute_molecular_weight(aa_string)                    # From this line forward, this is my code.\n",
    "    GC_cont_table = GC(str(value))\n",
    "    penguins_df.set_value(row_counter, 'GC_cont', GC_cont_table)                    \n",
    "    penguins_df.set_value(row_counter, 'mol_weight', mol_weight_table)\n",
    "    row_counter = row_counter + 1"
   ]
  },
  {
   "cell_type": "code",
   "execution_count": 22,
   "metadata": {},
   "outputs": [
    {
     "data": {
      "text/html": [
       "<div>\n",
       "<style>\n",
       "    .dataframe thead tr:only-child th {\n",
       "        text-align: right;\n",
       "    }\n",
       "\n",
       "    .dataframe thead th {\n",
       "        text-align: left;\n",
       "    }\n",
       "\n",
       "    .dataframe tbody tr th {\n",
       "        vertical-align: top;\n",
       "    }\n",
       "</style>\n",
       "<table border=\"1\" class=\"dataframe\">\n",
       "  <thead>\n",
       "    <tr style=\"text-align: right;\">\n",
       "      <th></th>\n",
       "      <th>species</th>\n",
       "      <th>mass</th>\n",
       "      <th>GC_cont</th>\n",
       "      <th>mol_weight</th>\n",
       "    </tr>\n",
       "  </thead>\n",
       "  <tbody>\n",
       "    <tr>\n",
       "      <th>0</th>\n",
       "      <td>Aptenodytes forsteri</td>\n",
       "      <td>28.00</td>\n",
       "      <td>48.381452</td>\n",
       "      <td>42459.6021</td>\n",
       "    </tr>\n",
       "    <tr>\n",
       "      <th>1</th>\n",
       "      <td>Aptenodytes patagonicus</td>\n",
       "      <td>13.40</td>\n",
       "      <td>49.693788</td>\n",
       "      <td>42563.7067</td>\n",
       "    </tr>\n",
       "    <tr>\n",
       "      <th>2</th>\n",
       "      <td>Eudyptes chrysocome</td>\n",
       "      <td>2.80</td>\n",
       "      <td>51.181102</td>\n",
       "      <td>42475.5753</td>\n",
       "    </tr>\n",
       "    <tr>\n",
       "      <th>3</th>\n",
       "      <td>Eudyptes chrysolophus</td>\n",
       "      <td>4.50</td>\n",
       "      <td>50.918635</td>\n",
       "      <td>42445.5493</td>\n",
       "    </tr>\n",
       "    <tr>\n",
       "      <th>4</th>\n",
       "      <td>Eudyptes sclateri</td>\n",
       "      <td>4.25</td>\n",
       "      <td>50.831146</td>\n",
       "      <td>42475.5753</td>\n",
       "    </tr>\n",
       "    <tr>\n",
       "      <th>5</th>\n",
       "      <td>Eudyptula minor</td>\n",
       "      <td>1.60</td>\n",
       "      <td>49.256343</td>\n",
       "      <td>42491.6408</td>\n",
       "    </tr>\n",
       "    <tr>\n",
       "      <th>6</th>\n",
       "      <td>Pygoscelis adeliae</td>\n",
       "      <td>4.60</td>\n",
       "      <td>49.081365</td>\n",
       "      <td>42458.6140</td>\n",
       "    </tr>\n",
       "    <tr>\n",
       "      <th>7</th>\n",
       "      <td>Pygoscelis antarctica</td>\n",
       "      <td>4.10</td>\n",
       "      <td>47.769029</td>\n",
       "      <td>42404.5423</td>\n",
       "    </tr>\n",
       "    <tr>\n",
       "      <th>8</th>\n",
       "      <td>Pygoscelis papua</td>\n",
       "      <td>6.10</td>\n",
       "      <td>47.156605</td>\n",
       "      <td>42595.8759</td>\n",
       "    </tr>\n",
       "    <tr>\n",
       "      <th>9</th>\n",
       "      <td>Spheniscus demersus</td>\n",
       "      <td>3.20</td>\n",
       "      <td>48.293963</td>\n",
       "      <td>42431.5490</td>\n",
       "    </tr>\n",
       "    <tr>\n",
       "      <th>10</th>\n",
       "      <td>Spheniscus humboldti</td>\n",
       "      <td>4.75</td>\n",
       "      <td>49.256343</td>\n",
       "      <td>42399.5520</td>\n",
       "    </tr>\n",
       "    <tr>\n",
       "      <th>11</th>\n",
       "      <td>Spheniscus magellanicus</td>\n",
       "      <td>3.40</td>\n",
       "      <td>48.206474</td>\n",
       "      <td>42459.6021</td>\n",
       "    </tr>\n",
       "  </tbody>\n",
       "</table>\n",
       "</div>"
      ],
      "text/plain": [
       "                    species   mass    GC_cont  mol_weight\n",
       "0      Aptenodytes forsteri  28.00  48.381452  42459.6021\n",
       "1   Aptenodytes patagonicus  13.40  49.693788  42563.7067\n",
       "2       Eudyptes chrysocome   2.80  51.181102  42475.5753\n",
       "3     Eudyptes chrysolophus   4.50  50.918635  42445.5493\n",
       "4         Eudyptes sclateri   4.25  50.831146  42475.5753\n",
       "5           Eudyptula minor   1.60  49.256343  42491.6408\n",
       "6        Pygoscelis adeliae   4.60  49.081365  42458.6140\n",
       "7     Pygoscelis antarctica   4.10  47.769029  42404.5423\n",
       "8          Pygoscelis papua   6.10  47.156605  42595.8759\n",
       "9       Spheniscus demersus   3.20  48.293963  42431.5490\n",
       "10     Spheniscus humboldti   4.75  49.256343  42399.5520\n",
       "11  Spheniscus magellanicus   3.40  48.206474  42459.6021"
      ]
     },
     "execution_count": 22,
     "metadata": {},
     "output_type": "execute_result"
    }
   ],
   "source": [
    "penguins_df"
   ]
  },
  {
   "cell_type": "markdown",
   "metadata": {},
   "source": [
    "### Question 8\n",
    "\n",
    "#### I plotted a bar chart of mass with the x-axis labeled with species names. For this I used the class notes and imported seaborn and used matplotlib to see the plots inline. As the labels on the x-axis was crowded, I rotated the label 90 so that they would be readable and still remain with appropriate bar. \n",
    "\n",
    "Source:https://seaborn.pydata.org/generated/seaborn.barplot.html and https://stackoverflow.com/questions/26540035/rotate-label-text-in-seaborn-factorplot"
   ]
  },
  {
   "cell_type": "code",
   "execution_count": 23,
   "metadata": {
    "collapsed": true
   },
   "outputs": [],
   "source": [
    "import seaborn as sns\n",
    "%matplotlib inline"
   ]
  },
  {
   "cell_type": "code",
   "execution_count": 24,
   "metadata": {
    "scrolled": true
   },
   "outputs": [
    {
     "data": {
      "text/plain": [
       "[<matplotlib.text.Text at 0xc1c70f0>,\n",
       " <matplotlib.text.Text at 0xbecf0b8>,\n",
       " <matplotlib.text.Text at 0xc6ab9b0>,\n",
       " <matplotlib.text.Text at 0xc6b43c8>,\n",
       " <matplotlib.text.Text at 0xc6b4da0>,\n",
       " <matplotlib.text.Text at 0xc6bb7b8>,\n",
       " <matplotlib.text.Text at 0xc6c21d0>,\n",
       " <matplotlib.text.Text at 0xc6c2ba8>,\n",
       " <matplotlib.text.Text at 0xc6ca5c0>,\n",
       " <matplotlib.text.Text at 0xc6caf98>,\n",
       " <matplotlib.text.Text at 0xc6cf9b0>,\n",
       " <matplotlib.text.Text at 0xc6d63c8>]"
      ]
     },
     "execution_count": 24,
     "metadata": {},
     "output_type": "execute_result"
    },
    {
     "data": {
      "image/png": "[encoded data removed]",
      "text/plain": [
       "<matplotlib.figure.Figure at 0xbe8add8>"
      ]
     },
     "metadata": {},
     "output_type": "display_data"
    }
   ],
   "source": [
    "Species_by_mass = sns.barplot(\"species\", \"mass\", data=penguins_df)\n",
    "Species_by_mass.set_xticklabels(Species_by_mass.get_xticklabels(), rotation=90)"
   ]
  },
  {
   "cell_type": "markdown",
   "metadata": {},
   "source": [
    "#### To answer the questions in question 8, the smallest penguin is the Eudyptula minor. Another interesting fact is that they are called the fairy penguin due to their size, or the little blue penguin because of their blue plumage.\n",
    "\n",
    "Source: https://en.wikipedia.org/wiki/Little_penguin"
   ]
  },
  {
   "cell_type": "markdown",
   "metadata": {},
   "source": [
    "### Question 9\n",
    "\n",
    "#### I used a scatterplot to plot a visualization of the molecular weight (y-axis) as a function of GC content (x-axis). For this, I also used class notes as opposed to a website for coding information."
   ]
  },
  {
   "cell_type": "code",
   "execution_count": 25,
   "metadata": {
    "scrolled": true
   },
   "outputs": [
    {
     "data": {
      "text/plain": [
       "<seaborn.axisgrid.FacetGrid at 0x98cda20>"
      ]
     },
     "execution_count": 25,
     "metadata": {},
     "output_type": "execute_result"
    },
    {
     "data": {
      "image/png": "[encoded data removed]",
      "text/plain": [
       "<matplotlib.figure.Figure at 0x99310b8>"
      ]
     },
     "metadata": {},
     "output_type": "display_data"
    }
   ],
   "source": [
    "sns.lmplot(\"GC_cont\", \"mol_weight\", data=penguins_df, fit_reg = False)"
   ]
  },
  {
   "cell_type": "markdown",
   "metadata": {},
   "source": [
    "### Question 10\n",
    "\n",
    "#### I then saved the new dataframe to a new file.\n",
    "\n",
    "Source: https://stackoverflow.com/questions/16923281/pandas-writing-dataframe-to-csv-file"
   ]
  },
  {
   "cell_type": "code",
   "execution_count": 26,
   "metadata": {
    "collapsed": true
   },
   "outputs": [],
   "source": [
    "penguins_df.to_csv(\"penguins_mass_cytb.csv\")"
   ]
  },
  {
   "cell_type": "markdown",
   "metadata": {},
   "source": [
    "### Question 11: Bonus\n",
    "\n",
    "#### I added one additional function and created three more plots for the dataset in Python. Using Biopython, I altered my alternative translation function to a transcribe function to go from DNA to RNA. Then used the DNA sequence from question 2 to test it.  Then I created a bar plot to visualize GC content as a function of species and molecular weight as a function of species.  I also created a scatter plot to examine mass as a function of GC content and mass as a function of molecular weight. As these were variations of plots conducted  in questions 8 and 9, I just altered the source for the values of x and y."
   ]
  },
  {
   "cell_type": "code",
   "execution_count": 27,
   "metadata": {
    "collapsed": true
   },
   "outputs": [],
   "source": [
    "def transcribe(dict):\n",
    "    for key, value in cytb_seqs.items():\n",
    "        aa_string = value.transcribe()\n",
    "    return dict.replace('T','U')"
   ]
  },
  {
   "cell_type": "code",
   "execution_count": 28,
   "metadata": {},
   "outputs": [
    {
     "data": {
      "text/plain": [
       "'AUGGCCCCAAACCUCCGAAAAUCCCAUCCUCUCCUAAAAAUAAUUAAUAACUCCCUAAUCGACCUGCCCACCCCAUCAAACAUCUCUGCCUGAUGAAACUUCGGAUCUCUCCUAGGCAUCUGCCUAACUACACAAAUCUUAACCGGCCUCCUACUAGCUAUACACUACACUGCAGACACAACCCUGGCCUUCUCCUCAGUCGCCCACACAUGCCGAAAUGUACAGUACGGCUGACUAAUCCGCAACCUACAUGCAAACGGAGCAUCAUUCUUUUUCAUCUGCAUCUACCUCCACAUCGGCCGUGGAUUUUACUACGGCUCCUACCUAUACAAAGAAACCUGAAACACGGGCAUCAUUCUCCUACUCACACUCAUAGCAACCGCCUUCGUAGGCUACGUCCUGCCAUGGGGACAAAUAUCAUUCUGAGGGGCCACAGUCAUUACCAACUUAUUCUCAGCCAUCCCCUACAUCGGCCAAACCCUCGUAGAAUGAGCCUGAGGUGGCUUUUCAGUAGACAACCCCACAUUAACCCGAUUUUUCGCACUACACUUCCUCCUCCCCUUCAUAAUCGCAGGCCUCACCCUCAUCCAUCUCACCUUCCUCCACGAAUCAGGCUCAAACAACCCACUGGGCAUCGUAGCUAACUCCGAUAAGAUCCCAUUCCAUCCCUACUACUCCACAAAAGACACCCUAGGAUUCGCACUCAUACUUCUCCCACUAACAACCCUCGCCCUAUUCUCCCCCAACUUACUGGGGGACCCAGAAAACUUUACCCCAGCAAACCCACUAGUCACACCCCCACACAUCAAACCAGAAUGAUACUUCCUAUUUGCAUACGCUAUCCUACGCUCAAUCCCCAACAAACUGGGGGGAGUCCUAGCCCUAGCAGCCUCAGUACUGAUCCUAUUCCUAAUCCCCCUCCUCCACAAGUCCAAACAGCGUACAAUAACCUUCCGUCCCCUCUCCCAGCUCCUAUUCUGAACCUUAGUAGCCAACCUCACCAUCCUAACAUGGAUCGGCAGCCAACCAGUAGAACACCCCUUCAUCAUCAUCGGCCAACUAGCUUCCCUCACCUACUUCACCAUCCUCCUAAUCCUCUUCCCCCUCAUCGGGACUCUAGAAAACAAGAUACUUAACCACUAA'"
      ]
     },
     "execution_count": 28,
     "metadata": {},
     "output_type": "execute_result"
    }
   ],
   "source": [
    "transcribe(\"ATGGCCCCAAACCTCCGAAAATCCCATCCTCTCCTAAAAATAATTAATAACTCCCTAATCGACCTGCCCACCCCATCAAACATCTCTGCCTGATGAAACTTCGGATCTCTCCTAGGCATCTGCCTAACTACACAAATCTTAACCGGCCTCCTACTAGCTATACACTACACTGCAGACACAACCCTGGCCTTCTCCTCAGTCGCCCACACATGCCGAAATGTACAGTACGGCTGACTAATCCGCAACCTACATGCAAACGGAGCATCATTCTTTTTCATCTGCATCTACCTCCACATCGGCCGTGGATTTTACTACGGCTCCTACCTATACAAAGAAACCTGAAACACGGGCATCATTCTCCTACTCACACTCATAGCAACCGCCTTCGTAGGCTACGTCCTGCCATGGGGACAAATATCATTCTGAGGGGCCACAGTCATTACCAACTTATTCTCAGCCATCCCCTACATCGGCCAAACCCTCGTAGAATGAGCCTGAGGTGGCTTTTCAGTAGACAACCCCACATTAACCCGATTTTTCGCACTACACTTCCTCCTCCCCTTCATAATCGCAGGCCTCACCCTCATCCATCTCACCTTCCTCCACGAATCAGGCTCAAACAACCCACTGGGCATCGTAGCTAACTCCGATAAGATCCCATTCCATCCCTACTACTCCACAAAAGACACCCTAGGATTCGCACTCATACTTCTCCCACTAACAACCCTCGCCCTATTCTCCCCCAACTTACTGGGGGACCCAGAAAACTTTACCCCAGCAAACCCACTAGTCACACCCCCACACATCAAACCAGAATGATACTTCCTATTTGCATACGCTATCCTACGCTCAATCCCCAACAAACTGGGGGGAGTCCTAGCCCTAGCAGCCTCAGTACTGATCCTATTCCTAATCCCCCTCCTCCACAAGTCCAAACAGCGTACAATAACCTTCCGTCCCCTCTCCCAGCTCCTATTCTGAACCTTAGTAGCCAACCTCACCATCCTAACATGGATCGGCAGCCAACCAGTAGAACACCCCTTCATCATCATCGGCCAACTAGCTTCCCTCACCTACTTCACCATCCTCCTAATCCTCTTCCCCCTCATCGGGACTCTAGAAAACAAGATACTTAACCACTAA\")"
   ]
  },
  {
   "cell_type": "code",
   "execution_count": 29,
   "metadata": {
    "scrolled": true
   },
   "outputs": [
    {
     "data": {
      "text/plain": [
       "[<matplotlib.text.Text at 0xc80d0f0>,\n",
       " <matplotlib.text.Text at 0xc812080>,\n",
       " <matplotlib.text.Text at 0xc6fba90>,\n",
       " <matplotlib.text.Text at 0xc7dedd8>,\n",
       " <matplotlib.text.Text at 0xc8b04a8>,\n",
       " <matplotlib.text.Text at 0xc8b0dd8>,\n",
       " <matplotlib.text.Text at 0xc8b77f0>,\n",
       " <matplotlib.text.Text at 0xc8bd208>,\n",
       " <matplotlib.text.Text at 0xc8bdbe0>,\n",
       " <matplotlib.text.Text at 0xc8c35f8>,\n",
       " <matplotlib.text.Text at 0xc8c3fd0>,\n",
       " <matplotlib.text.Text at 0xc8c89e8>]"
      ]
     },
     "execution_count": 29,
     "metadata": {},
     "output_type": "execute_result"
    },
    {
     "data": {
      "image/png": "[encoded data removed]",
      "text/plain": [
       "<matplotlib.figure.Figure at 0xc1df668>"
      ]
     },
     "metadata": {},
     "output_type": "display_data"
    }
   ],
   "source": [
    "Species_by_GC = sns.barplot(\"species\", \"GC_cont\", data=penguins_df)\n",
    "Species_by_GC.set_xticklabels(Species_by_GC.get_xticklabels(), rotation=90)"
   ]
  },
  {
   "cell_type": "code",
   "execution_count": 30,
   "metadata": {},
   "outputs": [
    {
     "data": {
      "text/plain": [
       "[<matplotlib.text.Text at 0xc72df60>,\n",
       " <matplotlib.text.Text at 0xc917390>,\n",
       " <matplotlib.text.Text at 0xc9b3a58>,\n",
       " <matplotlib.text.Text at 0xc9ba470>,\n",
       " <matplotlib.text.Text at 0xc7c0630>,\n",
       " <matplotlib.text.Text at 0xc8b76a0>,\n",
       " <matplotlib.text.Text at 0xc9bac88>,\n",
       " <matplotlib.text.Text at 0xc9bf5f8>,\n",
       " <matplotlib.text.Text at 0xc9bffd0>,\n",
       " <matplotlib.text.Text at 0xc9c49e8>,\n",
       " <matplotlib.text.Text at 0xc9cc400>,\n",
       " <matplotlib.text.Text at 0xc9ccdd8>]"
      ]
     },
     "execution_count": 30,
     "metadata": {},
     "output_type": "execute_result"
    },
    {
     "data": {
      "image/png": "[encoded data removed]",
      "text/plain": [
       "<matplotlib.figure.Figure at 0xc6b4a58>"
      ]
     },
     "metadata": {},
     "output_type": "display_data"
    }
   ],
   "source": [
    "Species_by_MW = sns.barplot(\"species\", \"mol_weight\", data=penguins_df)\n",
    "Species_by_MW.set_xticklabels(Species_by_MW.get_xticklabels(), rotation=90)"
   ]
  },
  {
   "cell_type": "code",
   "execution_count": 31,
   "metadata": {
    "scrolled": true
   },
   "outputs": [
    {
     "data": {
      "text/plain": [
       "<seaborn.axisgrid.FacetGrid at 0xc7de1d0>"
      ]
     },
     "execution_count": 31,
     "metadata": {},
     "output_type": "execute_result"
    },
    {
     "data": {
      "image/png": "[encoded data removed]",
      "text/plain": [
       "<matplotlib.figure.Figure at 0xc7de4e0>"
      ]
     },
     "metadata": {},
     "output_type": "display_data"
    }
   ],
   "source": [
    "sns.lmplot(\"GC_cont\", \"mass\", data=penguins_df, fit_reg = False)"
   ]
  },
  {
   "cell_type": "code",
   "execution_count": 32,
   "metadata": {},
   "outputs": [
    {
     "data": {
      "text/plain": [
       "<seaborn.axisgrid.FacetGrid at 0xca75a20>"
      ]
     },
     "execution_count": 32,
     "metadata": {},
     "output_type": "execute_result"
    },
    {
     "data": {
      "image/png": "[encoded data removed]",
      "text/plain": [
       "<matplotlib.figure.Figure at 0xca75b70>"
      ]
     },
     "metadata": {},
     "output_type": "display_data"
    }
   ],
   "source": [
    "sns.lmplot(\"mol_weight\", \"mass\", data=penguins_df, fit_reg = False)"
   ]
  },
  {
   "cell_type": "code",
   "execution_count": null,
   "metadata": {
    "collapsed": true
   },
   "outputs": [],
   "source": []
  }
 ],
 "metadata": {
  "kernelspec": {
   "display_name": "Python 3",
   "language": "python",
   "name": "python3"
  },
  "language_info": {
   "codemirror_mode": {
    "name": "ipython",
    "version": 3
   },
   "file_extension": ".py",
   "mimetype": "text/x-python",
   "name": "python",
   "nbconvert_exporter": "python",
   "pygments_lexer": "ipython3",
   "version": "3.6.2"
  }
 },
 "nbformat": 4,
 "nbformat_minor": 2
}
